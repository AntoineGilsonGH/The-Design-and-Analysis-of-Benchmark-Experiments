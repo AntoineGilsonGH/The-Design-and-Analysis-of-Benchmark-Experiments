{
 "cells": [
  {
   "cell_type": "markdown",
   "metadata": {},
   "source": [
    "## Simulation"
   ]
  },
  {
   "cell_type": "code",
   "execution_count": 5,
   "metadata": {},
   "outputs": [
    {
     "name": "stdout",
     "output_type": "stream",
     "text": [
      "MSE: 0.5724\n",
      "MSE2: 0.4743\n"
     ]
    }
   ],
   "source": [
    "import numpy as np\n",
    "from sklearn.model_selection import train_test_split\n",
    "from sklearn.metrics import mean_squared_error\n",
    "from sklearn.linear_model import LinearRegression\n",
    "\n",
    "# Génération de données synthétiques\n",
    "np.random.seed(42)\n",
    "n = 150\n",
    "beta1 = 2\n",
    "x = np.random.uniform(0, 5, n)\n",
    "epsilon = np.random.normal(0, 1, n)\n",
    "beta2 =  0.16\n",
    "y = beta1 * x + beta2 * x**2 + epsilon\n",
    "\n",
    "x_reshape = x.reshape(-1, 1)\n",
    "\n",
    "# Division des données en ensembles d'entraînement et de test\n",
    "X_train, X_test, y_train, y_test = train_test_split(x_reshape, y, test_size=0.2, random_state=42)\n",
    "\n",
    "# Modèle d'entraînement\n",
    "model = LinearRegression()\n",
    "model.fit(X_train, y_train)\n",
    "\n",
    "# Évaluation du modèle\n",
    "y_pred = model.predict(X_test)\n",
    "mse = mean_squared_error(y_test, y_pred)\n",
    "print(f\"MSE: {mse:.4f}\")\n",
    "\n",
    "\n",
    "x_train_quad = np.column_stack((X_train, X_train**2))\n",
    "model_a2 = LinearRegression().fit(x_train_quad, y_train)\n",
    "x_test_quad = np.column_stack((X_test, X_test**2))\n",
    "y_pred_a2 = model_a2.predict(x_test_quad)\n",
    "mse2 = mean_squared_error(y_test, y_pred_a2)\n",
    "print(f\"MSE2: {mse2:.4f}\")\n"
   ]
  },
  {
   "cell_type": "markdown",
   "metadata": {},
   "source": [
    "## Competition"
   ]
  },
  {
   "cell_type": "code",
   "execution_count": null,
   "metadata": {},
   "outputs": [],
   "source": [
    "from sklearn.utils import resample\n",
    "\n",
    "# Données de compétition\n",
    "np.random.seed(42)\n",
    "n = 150\n",
    "beta1 = 2\n",
    "x = np.random.uniform(0, 5, n)\n",
    "epsilon = np.random.normal(0, 1, n)\n",
    "beta2 =  0.16\n",
    "y = beta1 * x + beta2 * x**2 + epsilon\n",
    "\n",
    "x_reshape = x.reshape(-1, 1)\n",
    "\n",
    "# Division en ensembles d'entraînement et de test\n",
    "X_train, X_test, y_train, y_test = train_test_split(x_reshape, y, test_size=0.2, random_state=42)\n",
    "\n",
    "# Bootstrapping\n",
    "n_bootstraps = 1000\n",
    "bootstrap_scores = []\n",
    "\n",
    "for _ in range(n_bootstraps):\n",
    "    X_resampled, y_resampled = resample(X_train, y_train)\n",
    "    model.fit(X_resampled, y_resampled)\n",
    "    y_pred = model.predict(X_test)\n",
    "    mse = mean_squared_error(y_test, y_pred)\n",
    "    bootstrap_scores.append(mse)\n",
    "\n",
    "mean_mse = np.mean(bootstrap_scores)\n",
    "std_mse = np.std(bootstrap_scores)\n",
    "print(f\"Bootstrap MSE: {mean_mse:.4f} ± {std_mse:.4f}\")\n"
   ]
  },
  {
   "cell_type": "markdown",
   "metadata": {},
   "source": [
    "## Real World"
   ]
  },
  {
   "cell_type": "code",
   "execution_count": null,
   "metadata": {},
   "outputs": [],
   "source": [
    "from sklearn.model_selection import cross_val_score\n",
    "from sklearn.utils import resample\n",
    "\n",
    "# Données du monde réel\n",
    "np.random.seed(42)\n",
    "n = 150\n",
    "beta1 = 2\n",
    "x = np.random.uniform(0, 5, n)\n",
    "epsilon = np.random.normal(0, 1, n)\n",
    "beta2 =  0.16\n",
    "y = beta1 * x + beta2 * x**2 + epsilon\n",
    "\n",
    "x_reshape = x.reshape(-1, 1)\n",
    "\n",
    "# Bootstrapping\n",
    "n_bootstraps = 1000\n",
    "bootstrap_scores = []\n",
    "\n",
    "for _ in range(n_bootstraps):\n",
    "    X_resampled, y_resampled = resample(X, y)\n",
    "    model.fit(X_resampled, y_resampled)\n",
    "    y_pred = model.predict(X)\n",
    "    mse = mean_squared_error(y, y_pred)\n",
    "    bootstrap_scores.append(mse)\n",
    "\n",
    "mean_mse = np.mean(bootstrap_scores)\n",
    "std_mse = np.std(bootstrap_scores)\n",
    "print(f\"Bootstrap MSE: {mean_mse:.4f} ± {std_mse:.4f}\")\n",
    "\n",
    "# Validation croisée\n",
    "cv_scores = cross_val_score(model, X, y, cv=5, scoring='neg_mean_squared_error')\n",
    "mean_cv_mse = -np.mean(cv_scores)\n",
    "std_cv_mse = np.std(cv_scores)\n",
    "print(f\"Cross-Validation MSE: {mean_cv_mse:.4f} ± {std_cv_mse:.4f}\")\n"
   ]
  }
 ],
 "metadata": {
  "kernelspec": {
   "display_name": "Python 3",
   "language": "python",
   "name": "python3"
  },
  "language_info": {
   "codemirror_mode": {
    "name": "ipython",
    "version": 3
   },
   "file_extension": ".py",
   "mimetype": "text/x-python",
   "name": "python",
   "nbconvert_exporter": "python",
   "pygments_lexer": "ipython3",
   "version": "3.9.6"
  }
 },
 "nbformat": 4,
 "nbformat_minor": 2
}

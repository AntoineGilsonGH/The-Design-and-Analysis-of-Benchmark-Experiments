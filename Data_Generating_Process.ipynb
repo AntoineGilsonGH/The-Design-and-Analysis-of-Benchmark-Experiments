{
  "cells": [
    {
      "cell_type": "code",
      "execution_count": 1,
      "metadata": {
        "id": "wRSP6Xvi6xFY"
      },
      "outputs": [],
      "source": [
        "import pandas as pd\n",
        "import numpy as np\n",
        "import matplotlib.pyplot as plt\n",
        "import scipy.stats as stats\n",
        "from scipy.stats import uniform, norm\n",
        "from sklearn.model_selection import train_test_split"
      ]
    },
    {
      "cell_type": "code",
      "execution_count": 2,
      "metadata": {
        "id": "UNbC1jOV741V"
      },
      "outputs": [],
      "source": [
        "# Generate the data of our experiment\n",
        "\n",
        "def data_gen_process():\n",
        "   beta1 = 2\n",
        "   beta2_values = np.linspace(0, 0.16, 9)\n",
        "   M = [150, 200, 500, 1000, 2000]\n",
        "   n_train = 150\n",
        "   n_test = 2000\n",
        "   seed = 42\n",
        "\n",
        "\n",
        "   epsilon = np.random.normal(0, 1, n_train + n_test)\n",
        "   x = np.random.uniform(0, 5, n_train + n_test)\n",
        "\n",
        "   x_train = x[:n_train]\n",
        "   x_test = x[n_train:n_train+n_test]\n",
        "   epsilon_train = epsilon[:n_train]\n",
        "   epsilon_test = epsilon[n_train:n_train+n_test]\n",
        "\n",
        "   liste_y = []\n",
        "   liste_y_train = []\n",
        "   liste_y_test = []\n",
        "\n",
        "   for beta2 in beta2_values:\n",
        "    y = beta1*x + beta2*x**2 + epsilon\n",
        "    y_train = beta1*x_train + beta2*x_train**2 + epsilon_train\n",
        "    y_test = beta1*x_test + beta2*x_test**2 + epsilon_test\n",
        "\n",
        "    liste_y.append(y)\n",
        "    liste_y_train.append(y_train)\n",
        "    liste_y_test.append(y_test)\n",
        "\n",
        "   return (beta1, beta2_values, M, n_train, n_test, seed, epsilon,\n",
        "           x, x_train, x_test, epsilon_train, epsilon_test,\n",
        "           liste_y, liste_y_train, liste_y_test)\n",
        "\n",
        "\n",
        "(beta1, beta2_values, M, n_train, n_test, seed, epsilon,\n",
        "           x, x_train, x_test, epsilon_train, epsilon_test,\n",
        "           liste_y, liste_y_train, liste_y_test)  = data_gen_process()"
      ]
    },
    {
      "cell_type": "code",
      "execution_count": 3,
      "metadata": {
        "id": "GdmkHWddFXbi"
      },
      "outputs": [],
      "source": [
        "# Generate one's personal data\n",
        "\n",
        "def generate_normal_data(mean, std_dev, size):\n",
        "    return np.random.normal(mean, std_dev, size)\n",
        "\n",
        "def generate_exponential_data(scale, size):\n",
        "    return np.random.exponential(scale, size)\n",
        "\n",
        "def generate_binomial_data(n, p, size):\n",
        "    return np.random.binomial(n, p, size)\n",
        "\n",
        "def generate_uniform_data(n, p, size):\n",
        "    return np.random.uniform(n, p, size)\n",
        "\n",
        "def generate_data():\n",
        "    print(\"Choisissez la distribution que vous souhaitez utiliser pour générer des données :\")\n",
        "    print(\"1. Normale\")\n",
        "    print(\"2. Exponentielle\")\n",
        "    print(\"3. Binomiale\")\n",
        "    print(\"4. Uniforme\")\n",
        "\n",
        "    choice = int(input(\"Entrez le numéro correspondant à votre choix : \"))\n",
        "    size = int(input(\"Entrez le nombre de données à générer : \"))\n",
        "\n",
        "    if choice == 1:\n",
        "        mean = float(input(\"Entrez la moyenne : \"))\n",
        "        std_dev = float(input(\"Entrez l'écart-type : \"))\n",
        "        data = generate_normal_data(mean, std_dev, size)\n",
        "    elif choice == 2:\n",
        "        scale = float(input(\"Entrez le paramètre d'échelle (lambda) : \"))\n",
        "        data = generate_exponential_data(scale, size)\n",
        "    elif choice == 3:\n",
        "        n = int(input(\"Entrez le nombre d'essais : \"))\n",
        "        p = float(input(\"Entrez la probabilité de succès : \"))\n",
        "        data = generate_binomial_data(n, p, size)\n",
        "    elif choice == 4:\n",
        "        n = int(input(\"Entrez la borne gauche : \"))\n",
        "        p = float(input(\"Entrez la borne droite : \"))\n",
        "        data = generate_uniform_data(n, p, size)\n",
        "    else:\n",
        "        print(\"Choix invalide.\")\n",
        "        return None\n",
        "\n",
        "    return data\n",
        "\n",
        "\n",
        "def get_user_input():\n",
        "    print(\"Génération des données pour X\")\n",
        "    x = generate_data()\n",
        "    if x is None:\n",
        "        return None, None, None, None\n",
        "    print(\"Génération des données pour Epsilon\")\n",
        "    epsilon = generate_data()\n",
        "    if epsilon is None:\n",
        "        return None, None, None, None\n",
        "\n",
        "    print(\"Rentrer des valeurs réelles pour les paramètres\")\n",
        "    expression = input(\"Entrez l'expression pour calculer y en fonction de x et epsilon (ex: 'beta1 * x + beta2 * x**2 + epsilon'): \")\n",
        "    params = {}\n",
        "\n",
        "    param_names = [param for param in expression.split() if param.isalpha() and param not in ['x', 'epsilon']]\n",
        "    for param in param_names:\n",
        "        params[param] = float(input(f\"Entrez la valeur de {param}: \"))\n",
        "\n",
        "    return expression, x, epsilon, params\n",
        "\n",
        "\n",
        "def calculate_y(expression, x, epsilon, **params):\n",
        "    if len(x) != len(epsilon):\n",
        "        raise ValueError(\"Les vecteurs x et epsilon doivent avoir la même taille.\")\n",
        "\n",
        "    local_vars = {'x': x, 'epsilon': epsilon}\n",
        "    local_vars.update(params)\n",
        "\n",
        "    y = eval(expression, {}, local_vars)\n",
        "\n",
        "    return y\n",
        "\n",
        "def your_data():\n",
        "    expression, x, epsilon, params = get_user_input()\n",
        "    if expression is not None and x is not None and epsilon is not None:\n",
        "        y = calculate_y(expression, x, epsilon, **params)\n",
        "        plt.figure()\n",
        "        plt.title(\"Affichage de Y en fonction de X\")\n",
        "        plt.plot(x[np.argsort(x)], y[np.argsort(x)], label = \" Y en fonction de X\")\n",
        "        plt.legend()\n",
        "        plt.show()\n",
        "    return y, x, epsilon\n",
        "\n",
        "def split_data(n_test, random_state=None):\n",
        "\n",
        "    y, x, epsilon = your_data()\n",
        "    X_train, X_test, y_train, y_test, train_indices, test_indices = train_test_split(\n",
        "        x, y, range(len(x)), test_size=n_test, random_state=random_state)\n",
        "\n",
        "    epsilon_train = [epsilon[i] for i in train_indices]\n",
        "    epsilon_test = [epsilon[i] for i in test_indices]\n",
        "\n",
        "    return X_train, X_test, y_train, y_test, epsilon_train, epsilon_test, len(X_train), n_test\n",
        "\n"
      ]
    },
    {
      "cell_type": "code",
      "execution_count": 4,
      "metadata": {
        "colab": {
          "base_uri": "https://localhost:8080/",
          "height": 826
        },
        "id": "_GZuLfVsLg4g",
        "outputId": "51c89670-b625-4de1-a8ae-8d35362693e4"
      },
      "outputs": [
        {
          "name": "stdout",
          "output_type": "stream",
          "text": [
            "Génération des données pour X\n",
            "Choisissez la distribution que vous souhaitez utiliser pour générer des données :\n",
            "1. Normale\n",
            "2. Exponentielle\n",
            "3. Binomiale\n",
            "4. Uniforme\n"
          ]
        }
      ],
      "source": [
        "X_train, X_test, y_train, y_test, epsilon_train, epsilon_test, n_train, n_test = split_data(150)"
      ]
    }
  ],
  "metadata": {
    "colab": {
      "provenance": []
    },
    "kernelspec": {
      "display_name": "Python 3",
      "name": "python3"
    },
    "language_info": {
      "codemirror_mode": {
        "name": "ipython",
        "version": 3
      },
      "file_extension": ".py",
      "mimetype": "text/x-python",
      "name": "python",
      "nbconvert_exporter": "python",
      "pygments_lexer": "ipython3",
      "version": "3.9.6"
    }
  },
  "nbformat": 4,
  "nbformat_minor": 0
}

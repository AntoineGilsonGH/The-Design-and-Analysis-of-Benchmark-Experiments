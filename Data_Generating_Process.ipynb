{
  "cells": [
    {
      "cell_type": "code",
      "execution_count": 2,
      "metadata": {
        "id": "wRSP6Xvi6xFY"
      },
      "outputs": [],
      "source": [
        "import pandas as pd\n",
        "import numpy as np\n",
        "import matplotlib.pyplot as plt\n",
        "import scipy.stats as stats\n",
        "from scipy.stats import uniform, norm\n",
        "from sklearn.model_selection import train_test_split"
      ]
    },
    {
      "cell_type": "code",
      "execution_count": 3,
      "metadata": {
        "id": "UNbC1jOV741V"
      },
      "outputs": [],
      "source": [
        "# Generate the data of our experiment\n",
        "\n",
        "def data_gen_process():\n",
        "   beta1 = 2\n",
        "   beta2_values = np.linspace(0, 0.16, 9)\n",
        "   M = [150, 200, 500, 1000, 2000]\n",
        "   n_train = 150\n",
        "   n_test = 2000\n",
        "   seed = 42\n",
        "\n",
        "\n",
        "   epsilon = np.random.normal(0, 1, n_train + n_test)\n",
        "   x = np.random.uniform(0, 5, n_train + n_test)\n",
        "\n",
        "   x_train = x[:n_train]\n",
        "   x_test = x[n_train:n_train+n_test]\n",
        "   epsilon_train = epsilon[:n_train]\n",
        "   epsilon_test = epsilon[n_train:n_train+n_test]\n",
        "\n",
        "   liste_y = []\n",
        "   liste_y_train = []\n",
        "   liste_y_test = []\n",
        "\n",
        "   for beta2 in beta2_values:\n",
        "    y = beta1*x + beta2*x**2 + epsilon\n",
        "    y_train = beta1*x_train + beta2*x_train**2 + epsilon_train\n",
        "    y_test = beta1*x_test + beta2*x_test**2 + epsilon_test\n",
        "\n",
        "    liste_y.append(y)\n",
        "    liste_y_train.append(y_train)\n",
        "    liste_y_test.append(y_test)\n",
        "\n",
        "   return (beta1, beta2_values, M, n_train, n_test, seed, epsilon,\n",
        "           x, x_train, x_test, epsilon_train, epsilon_test,\n",
        "           liste_y, liste_y_train, liste_y_test)\n",
        "\n",
        "\n",
        "(beta1, beta2_values, M, n_train, n_test, seed, epsilon,\n",
        "           x, x_train, x_test, epsilon_train, epsilon_test,\n",
        "           liste_y, liste_y_train, liste_y_test)  = data_gen_process()"
      ]
    },
    {
      "cell_type": "code",
      "execution_count": 4,
      "metadata": {
        "id": "GdmkHWddFXbi"
      },
      "outputs": [],
      "source": [
        "# Generate one's personal data\n",
        "\n",
        "def generate_normal_data(mean, std_dev, size):\n",
        "    return np.random.normal(mean, std_dev, size)\n",
        "\n",
        "def generate_exponential_data(scale, size):\n",
        "    return np.random.exponential(scale, size)\n",
        "\n",
        "def generate_binomial_data(n, p, size):\n",
        "    return np.random.binomial(n, p, size)\n",
        "\n",
        "def generate_uniform_data(n, p, size):\n",
        "    return np.random.uniform(n, p, size)\n",
        "\n",
        "def generate_data():\n",
        "    print(\"Choisissez la distribution que vous souhaitez utiliser pour générer des données :\")\n",
        "    print(\"1. Normale\")\n",
        "    print(\"2. Exponentielle\")\n",
        "    print(\"3. Binomiale\")\n",
        "    print(\"4. Uniforme\")\n",
        "\n",
        "    choice = int(input(\"Entrez le numéro correspondant à votre choix : \"))\n",
        "    size = int(input(\"Entrez le nombre de données à générer : \"))\n",
        "\n",
        "    if choice == 1:\n",
        "        mean = float(input(\"Entrez la moyenne : \"))\n",
        "        std_dev = float(input(\"Entrez l'écart-type : \"))\n",
        "        data = generate_normal_data(mean, std_dev, size)\n",
        "    elif choice == 2:\n",
        "        scale = float(input(\"Entrez le paramètre d'échelle (lambda) : \"))\n",
        "        data = generate_exponential_data(scale, size)\n",
        "    elif choice == 3:\n",
        "        n = int(input(\"Entrez le nombre d'essais : \"))\n",
        "        p = float(input(\"Entrez la probabilité de succès : \"))\n",
        "        data = generate_binomial_data(n, p, size)\n",
        "    elif choice == 4:\n",
        "        n = int(input(\"Entrez la borne gauche : \"))\n",
        "        p = float(input(\"Entrez la borne droite : \"))\n",
        "        data = generate_uniform_data(n, p, size)\n",
        "    else:\n",
        "        print(\"Choix invalide.\")\n",
        "        return None\n",
        "\n",
        "    return data\n",
        "\n",
        "\n",
        "def get_user_input():\n",
        "    print(\"Génération des données pour X\")\n",
        "    x = generate_data()\n",
        "    if x is None:\n",
        "        return None, None, None, None\n",
        "    print(\"Génération des données pour Epsilon\")\n",
        "    epsilon = generate_data()\n",
        "    if epsilon is None:\n",
        "        return None, None, None, None\n",
        "\n",
        "    print(\"Rentrer des valeurs réelles pour les paramètres\")\n",
        "    expression = input(\"Entrez l'expression pour calculer y en fonction de x et epsilon (ex: 'beta1 * x + beta2 * x**2 + epsilon'): \")\n",
        "    params = {}\n",
        "\n",
        "    param_names = [param for param in expression.split() if param.isalpha() and param not in ['x', 'epsilon']]\n",
        "    for param in param_names:\n",
        "        params[param] = float(input(f\"Entrez la valeur de {param}: \"))\n",
        "\n",
        "    return expression, x, epsilon, params\n",
        "\n",
        "\n",
        "def calculate_y(expression, x, epsilon, **params):\n",
        "    if len(x) != len(epsilon):\n",
        "        raise ValueError(\"Les vecteurs x et epsilon doivent avoir la même taille.\")\n",
        "\n",
        "    local_vars = {'x': x, 'epsilon': epsilon}\n",
        "    local_vars.update(params)\n",
        "\n",
        "    y = eval(expression, {}, local_vars)\n",
        "\n",
        "    return y\n",
        "\n",
        "def your_data():\n",
        "    expression, x, epsilon, params = get_user_input()\n",
        "    if expression is not None and x is not None and epsilon is not None:\n",
        "        y = calculate_y(expression, x, epsilon, **params)\n",
        "        plt.figure()\n",
        "        plt.title(\"Affichage de Y en fonction de X\")\n",
        "        plt.plot(x[np.argsort(x)], y[np.argsort(x)], label = \" Y en fonction de X\")\n",
        "        plt.legend()\n",
        "        plt.show()\n",
        "    return y, x, epsilon\n",
        "\n",
        "def split_data(n_test, random_state=None):\n",
        "\n",
        "    y, x, epsilon = your_data()\n",
        "    X_train, X_test, y_train, y_test, train_indices, test_indices = train_test_split(\n",
        "        x, y, range(len(x)), test_size=n_test, random_state=random_state)\n",
        "\n",
        "    epsilon_train = [epsilon[i] for i in train_indices]\n",
        "    epsilon_test = [epsilon[i] for i in test_indices]\n",
        "\n",
        "    return X_train, X_test, y_train, y_test, epsilon_train, epsilon_test, len(X_train), n_test"
      ]
    },
    {
      "cell_type": "code",
      "execution_count": 5,
      "metadata": {},
      "outputs": [
        {
          "name": "stdout",
          "output_type": "stream",
          "text": [
            "Génération des données pour X\n",
            "Choisissez la distribution que vous souhaitez utiliser pour générer des données :\n",
            "1. Normale\n",
            "2. Exponentielle\n",
            "3. Binomiale\n",
            "4. Uniforme\n"
          ]
        },
        {
          "ename": "ValueError",
          "evalue": "invalid literal for int() with base 10: ''",
          "output_type": "error",
          "traceback": [
            "\u001b[0;31m---------------------------------------------------------------------------\u001b[0m",
            "\u001b[0;31mValueError\u001b[0m                                Traceback (most recent call last)",
            "Cell \u001b[0;32mIn[5], line 1\u001b[0m\n\u001b[0;32m----> 1\u001b[0m split_data(\u001b[39m2000\u001b[39;49m)\n",
            "Cell \u001b[0;32mIn[4], line 92\u001b[0m, in \u001b[0;36msplit_data\u001b[0;34m(n_test, random_state)\u001b[0m\n\u001b[1;32m     90\u001b[0m \u001b[39mdef\u001b[39;00m \u001b[39msplit_data\u001b[39m(n_test, random_state\u001b[39m=\u001b[39m\u001b[39mNone\u001b[39;00m):\n\u001b[0;32m---> 92\u001b[0m     y, x, epsilon \u001b[39m=\u001b[39m your_data()\n\u001b[1;32m     93\u001b[0m     X_train, X_test, y_train, y_test, train_indices, test_indices \u001b[39m=\u001b[39m train_test_split(\n\u001b[1;32m     94\u001b[0m         x, y, \u001b[39mrange\u001b[39m(\u001b[39mlen\u001b[39m(x)), test_size\u001b[39m=\u001b[39mn_test, random_state\u001b[39m=\u001b[39mrandom_state)\n\u001b[1;32m     96\u001b[0m     epsilon_train \u001b[39m=\u001b[39m [epsilon[i] \u001b[39mfor\u001b[39;00m i \u001b[39min\u001b[39;00m train_indices]\n",
            "Cell \u001b[0;32mIn[4], line 80\u001b[0m, in \u001b[0;36myour_data\u001b[0;34m()\u001b[0m\n\u001b[1;32m     79\u001b[0m \u001b[39mdef\u001b[39;00m \u001b[39myour_data\u001b[39m():\n\u001b[0;32m---> 80\u001b[0m     expression, x, epsilon, params \u001b[39m=\u001b[39m get_user_input()\n\u001b[1;32m     81\u001b[0m     \u001b[39mif\u001b[39;00m expression \u001b[39mis\u001b[39;00m \u001b[39mnot\u001b[39;00m \u001b[39mNone\u001b[39;00m \u001b[39mand\u001b[39;00m x \u001b[39mis\u001b[39;00m \u001b[39mnot\u001b[39;00m \u001b[39mNone\u001b[39;00m \u001b[39mand\u001b[39;00m epsilon \u001b[39mis\u001b[39;00m \u001b[39mnot\u001b[39;00m \u001b[39mNone\u001b[39;00m:\n\u001b[1;32m     82\u001b[0m         y \u001b[39m=\u001b[39m calculate_y(expression, x, epsilon, \u001b[39m*\u001b[39m\u001b[39m*\u001b[39mparams)\n",
            "Cell \u001b[0;32mIn[4], line 49\u001b[0m, in \u001b[0;36mget_user_input\u001b[0;34m()\u001b[0m\n\u001b[1;32m     47\u001b[0m \u001b[39mdef\u001b[39;00m \u001b[39mget_user_input\u001b[39m():\n\u001b[1;32m     48\u001b[0m     \u001b[39mprint\u001b[39m(\u001b[39m\"\u001b[39m\u001b[39mGénération des données pour X\u001b[39m\u001b[39m\"\u001b[39m)\n\u001b[0;32m---> 49\u001b[0m     x \u001b[39m=\u001b[39m generate_data()\n\u001b[1;32m     50\u001b[0m     \u001b[39mif\u001b[39;00m x \u001b[39mis\u001b[39;00m \u001b[39mNone\u001b[39;00m:\n\u001b[1;32m     51\u001b[0m         \u001b[39mreturn\u001b[39;00m \u001b[39mNone\u001b[39;00m, \u001b[39mNone\u001b[39;00m, \u001b[39mNone\u001b[39;00m, \u001b[39mNone\u001b[39;00m\n",
            "Cell \u001b[0;32mIn[4], line 22\u001b[0m, in \u001b[0;36mgenerate_data\u001b[0;34m()\u001b[0m\n\u001b[1;32m     19\u001b[0m \u001b[39mprint\u001b[39m(\u001b[39m\"\u001b[39m\u001b[39m3. Binomiale\u001b[39m\u001b[39m\"\u001b[39m)\n\u001b[1;32m     20\u001b[0m \u001b[39mprint\u001b[39m(\u001b[39m\"\u001b[39m\u001b[39m4. Uniforme\u001b[39m\u001b[39m\"\u001b[39m)\n\u001b[0;32m---> 22\u001b[0m choice \u001b[39m=\u001b[39m \u001b[39mint\u001b[39;49m(\u001b[39minput\u001b[39;49m(\u001b[39m\"\u001b[39;49m\u001b[39mEntrez le numéro correspondant à votre choix : \u001b[39;49m\u001b[39m\"\u001b[39;49m))\n\u001b[1;32m     23\u001b[0m size \u001b[39m=\u001b[39m \u001b[39mint\u001b[39m(\u001b[39minput\u001b[39m(\u001b[39m\"\u001b[39m\u001b[39mEntrez le nombre de données à générer : \u001b[39m\u001b[39m\"\u001b[39m))\n\u001b[1;32m     25\u001b[0m \u001b[39mif\u001b[39;00m choice \u001b[39m==\u001b[39m \u001b[39m1\u001b[39m:\n",
            "\u001b[0;31mValueError\u001b[0m: invalid literal for int() with base 10: ''"
          ]
        }
      ],
      "source": [
        "split_data(2000)"
      ]
    }
  ],
  "metadata": {
    "colab": {
      "provenance": []
    },
    "kernelspec": {
      "display_name": "Python 3",
      "name": "python3"
    },
    "language_info": {
      "codemirror_mode": {
        "name": "ipython",
        "version": 3
      },
      "file_extension": ".py",
      "mimetype": "text/x-python",
      "name": "python",
      "nbconvert_exporter": "python",
      "pygments_lexer": "ipython3",
      "version": "3.9.6"
    }
  },
  "nbformat": 4,
  "nbformat_minor": 0
}

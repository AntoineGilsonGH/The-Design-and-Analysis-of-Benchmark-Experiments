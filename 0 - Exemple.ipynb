{
 "cells": [
  {
   "cell_type": "markdown",
   "metadata": {},
   "source": [
    "## Simulation"
   ]
  },
  {
   "cell_type": "code",
   "execution_count": 5,
   "metadata": {},
   "outputs": [
    {
     "name": "stdout",
     "output_type": "stream",
     "text": [
      "MSE: 0.5724\n",
      "MSE2: 0.4743\n"
     ]
    }
   ],
   "source": [
    "import numpy as np\n",
    "from sklearn.model_selection import train_test_split\n",
    "from sklearn.metrics import mean_squared_error\n",
    "from sklearn.linear_model import LinearRegression\n",
    "\n",
    "# Génération de données synthétiques\n",
    "np.random.seed(42)\n",
    "n = 150\n",
    "beta1 = 2\n",
    "x = np.random.uniform(0, 5, n)\n",
    "epsilon = np.random.normal(0, 1, n)\n",
    "beta2 =  0.16\n",
    "y = beta1 * x + beta2 * x**2 + epsilon\n",
    "\n",
    "x_reshape = x.reshape(-1, 1)\n",
    "\n",
    "# Division des données en ensembles d'entraînement et de test\n",
    "X_train, X_test, y_train, y_test = train_test_split(x_reshape, y, test_size=0.2, random_state=42)\n",
    "\n",
    "# Modèle d'entraînement\n",
    "model = LinearRegression()\n",
    "model.fit(X_train, y_train)\n",
    "\n",
    "# Évaluation du modèle\n",
    "y_pred = model.predict(X_test)\n",
    "mse = mean_squared_error(y_test, y_pred)\n",
    "print(f\"MSE: {mse:.4f}\")\n",
    "\n",
    "\n",
    "x_train_quad = np.column_stack((X_train, X_train**2))\n",
    "model_a2 = LinearRegression().fit(x_train_quad, y_train)\n",
    "x_test_quad = np.column_stack((X_test, X_test**2))\n",
    "y_pred_a2 = model_a2.predict(x_test_quad)\n",
    "mse2 = mean_squared_error(y_test, y_pred_a2)\n",
    "print(f\"MSE2: {mse2:.4f}\")\n"
   ]
  },
  {
   "cell_type": "markdown",
   "metadata": {},
   "source": [
    "## Competition"
   ]
  },
  {
   "cell_type": "code",
   "execution_count": null,
   "metadata": {},
   "outputs": [],
   "source": [
    "from sklearn.utils import resample\n",
    "\n",
    "# Données de compétition\n",
    "np.random.seed(42)\n",
    "n = 150\n",
    "beta1 = 2\n",
    "x = np.random.uniform(0, 5, n)\n",
    "epsilon = np.random.normal(0, 1, n)\n",
    "beta2 =  0.16\n",
    "y = beta1 * x + beta2 * x**2 + epsilon\n",
    "\n",
    "x_reshape = x.reshape(-1, 1)\n",
    "\n",
    "# Division en ensembles d'entraînement et de test\n",
    "X_train, X_test, y_train, y_test = train_test_split(x_reshape, y, test_size=0.2, random_state=42)\n",
    "\n",
    "# Bootstrapping\n",
    "n_bootstraps = 1000\n",
    "bootstrap_scores = []\n",
    "\n",
    "for _ in range(n_bootstraps):\n",
    "    X_resampled, y_resampled = resample(X_train, y_train)\n",
    "    model.fit(X_resampled, y_resampled)\n",
    "    y_pred = model.predict(X_test)\n",
    "    mse = mean_squared_error(y_test, y_pred)\n",
    "    bootstrap_scores.append(mse)\n",
    "\n",
    "mean_mse = np.mean(bootstrap_scores)\n",
    "std_mse = np.std(bootstrap_scores)\n",
    "print(f\"Bootstrap MSE: {mean_mse:.4f} ± {std_mse:.4f}\")\n"
   ]
  },
  {
   "cell_type": "markdown",
   "metadata": {},
   "source": [
    "## Real World"
   ]
  },
  {
   "cell_type": "code",
   "execution_count": null,
   "metadata": {},
   "outputs": [],
   "source": [
    "from sklearn.model_selection import cross_val_score\n",
    "from sklearn.utils import resample\n",
    "\n",
    "# Données du monde réel\n",
    "np.random.seed(42)\n",
    "n = 150\n",
    "beta1 = 2\n",
    "x = np.random.uniform(0, 5, n)\n",
    "epsilon = np.random.normal(0, 1, n)\n",
    "beta2 =  0.16\n",
    "y = beta1 * x + beta2 * x**2 + epsilon\n",
    "\n",
    "x_reshape = x.reshape(-1, 1)\n",
    "\n",
    "# Bootstrapping\n",
    "n_bootstraps = 1000\n",
    "bootstrap_scores = []\n",
    "\n",
    "for _ in range(n_bootstraps):\n",
    "    X_resampled, y_resampled = resample(X, y)\n",
    "    model.fit(X_resampled, y_resampled)\n",
    "    y_pred = model.predict(X)\n",
    "    mse = mean_squared_error(y, y_pred)\n",
    "    bootstrap_scores.append(mse)\n",
    "\n",
    "mean_mse = np.mean(bootstrap_scores)\n",
    "std_mse = np.std(bootstrap_scores)\n",
    "print(f\"Bootstrap MSE: {mean_mse:.4f} ± {std_mse:.4f}\")\n",
    "\n",
    "# Validation croisée\n",
    "cv_scores = cross_val_score(model, X, y, cv=5, scoring='neg_mean_squared_error')\n",
    "mean_cv_mse = -np.mean(cv_scores)\n",
    "std_cv_mse = np.std(cv_scores)\n",
    "print(f\"Cross-Validation MSE: {mean_cv_mse:.4f} ± {std_cv_mse:.4f}\")\n"
   ]
  },
  {
   "cell_type": "code",
   "execution_count": null,
   "metadata": {},
   "outputs": [],
   "source": [
    "np.random.seed(42) # Definition des variables \n",
    "n = 150\n",
    "beta1 = 2\n",
    "beta2_values = np.linspace(0, 0.16, 9)  # Values of beta2 to test\n",
    "mse_a1 = []\n",
    "mse_a2 = []\n",
    "results = []\n",
    "\n",
    "x = np.random.uniform(0, 5, n)\n",
    "epsilon = np.random.normal(0, 1, n)\n",
    "\n",
    "for beta2 in beta2_values: # Premier essai\n",
    "    y = beta1 * x + beta2 * x**2 + epsilon\n",
    "    \n",
    "    x_reshape = x.reshape(-1, 1)\n",
    "    \n",
    "    # Model a1: simple linear regression (y ~ x)\n",
    "    model_a1 = LinearRegression().fit(x_reshape, y)\n",
    "    y_pred_a1 = model_a1.predict(x_reshape)\n",
    "    mse_a1.append(mean_squared_error(y, y_pred_a1))\n",
    "    coef_a1 = (model_a1.intercept_, model_a1.coef_[0])\n",
    "    \n",
    "    # Model a2: quadratic regression (y ~ x + x^2)\n",
    "    x_quad = np.column_stack((x, x**2))\n",
    "    model_a2 = LinearRegression().fit(x_quad, y)\n",
    "    y_pred_a2 = model_a2.predict(x_quad)\n",
    "    mse_a2.append(mean_squared_error(y, y_pred_a2))\n",
    "    coef_a2 = (model_a2.intercept_, model_a2.coef_[0], model_a2.coef_[1])\n",
    "\n",
    "    results.append({\n",
    "        'beta2': beta2,\n",
    "        'coef_a1_intercept': coef_a1[0],\n",
    "        'coef_a1_x': coef_a1[1],\n",
    "        'mse_a1': mean_squared_error(y, y_pred_a1),\n",
    "        'coef_a2_intercept': coef_a2[0],\n",
    "        'coef_a2_x': coef_a2[1],\n",
    "        'coef_a2_x2': coef_a2[2],\n",
    "        'mse_a2': mean_squared_error(y, y_pred_a2)\n",
    "    })\n",
    "    \n",
    "plt.figure(figsize=(10, 6))\n",
    "plt.plot(beta2_values, mse_a1, label='Linear Regression', marker='o')\n",
    "plt.plot(beta2_values, mse_a2, label='Quadratic Regression', marker='o')\n",
    "plt.xlabel(r'beta_2')\n",
    "plt.ylabel('Mean Squared Error')\n",
    "plt.title('Mean Squared Error vs beta_2 for Linear and Quadratic Models')\n",
    "plt.legend()\n",
    "plt.grid(True)\n",
    "plt.show()\n",
    "\n",
    "df_results = pd.DataFrame(results)\n",
    "df_results"
   ]
  }
 ],
 "metadata": {
  "kernelspec": {
   "display_name": "Python 3",
   "language": "python",
   "name": "python3"
  },
  "language_info": {
   "codemirror_mode": {
    "name": "ipython",
    "version": 3
   },
   "file_extension": ".py",
   "mimetype": "text/x-python",
   "name": "python",
   "nbconvert_exporter": "python",
   "pygments_lexer": "ipython3",
   "version": "3.9.6"
  }
 },
 "nbformat": 4,
 "nbformat_minor": 2
}

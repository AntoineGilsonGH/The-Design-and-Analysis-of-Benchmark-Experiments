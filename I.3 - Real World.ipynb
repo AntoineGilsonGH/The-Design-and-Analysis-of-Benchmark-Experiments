{
 "cells": [
  {
   "cell_type": "markdown",
   "metadata": {},
   "source": [
    "## Real World"
   ]
  },
  {
   "cell_type": "code",
   "execution_count": null,
   "metadata": {},
   "outputs": [],
   "source": [
    "import pandas as pd\n",
    "import numpy as np\n",
    "import matplotlib.pyplot as plt\n",
    "from sklearn.linear_model import LinearRegression\n",
    "from sklearn.metrics import mean_squared_error\n",
    "import scipy.stats as stats\n",
    "from sklearn.model_selection import train_test_split\n",
    "from sklearn.model_selection import cross_val_score\n",
    "from sklearn.utils import resample"
   ]
  },
  {
   "cell_type": "code",
   "execution_count": null,
   "metadata": {},
   "outputs": [],
   "source": [
    "def power_competition(n,B,m=150):\n",
    "        \n",
    "   np.random.seed(42)\n",
    "   esperances = []\n",
    "   variances = []\n",
    "   test_statistics = []\n",
    "   test_alternative = []\n",
    "   power = []\n",
    "   epsilon = np.random.normal(0, 1, n)\n",
    "   x = np.random.uniform(0, 5, n)\n",
    "   beta1 = 2\n",
    "   beta2_values = np.linspace(0, 0.16, 9)\n",
    "\n",
    "   bootstrap_indices = np.random.choice(n, size=(B, n), replace=True) # bootstrapping\n",
    "\n",
    "   for beta2 in beta2_values:\n",
    "       \n",
    "       y = beta1 * x + beta2 * x**2 + epsilon # generation de données\n",
    "       x_train, x_test, y_train, y_test = train_test_split(x_reshape, y, test_size=m, random_state=42)\n",
    "       db = []\n",
    "       \n",
    "       # QUESTION DE L'ENSEMBLE DE TEST\n",
    "       \n",
    "       for bootstrap_index in bootstrap_indices:\n",
    "       \n",
    "          x_train = x[bootstrap_index]\n",
    "          y_train = beta1 * x_train + beta2 * x_train**2 + epsilon[bootstrap_index]\n",
    "\n",
    "          x_train_reshape = x_train.reshape(-1, 1) # fit pour le modèle \n",
    "          model_a1 = LinearRegression().fit(x_train_reshape, y_train) # Modèle linéaire\n",
    "          y_pred_a1 = model_a1.predict(x_test.reshape(-1,1))\n",
    "          p1b = mean_squared_error(y_test, y_pred_a1)\n",
    "\n",
    "          x_train_quad = np.column_stack((x_train, x_train**2))\n",
    "          model_a2 = LinearRegression().fit(x_train_quad, y_train)\n",
    "          x_test_quad = np.column_stack((x_test, x_test**2))\n",
    "          y_pred_a2 = model_a2.predict(x_test_quad)\n",
    "          p2b = mean_squared_error(y_test, y_pred_a2)\n",
    "\n",
    "          db.append(p1b - p2b)  # Différence des moyennes de performance sur chaque bootstrap\n",
    "\n",
    "       # Fin du boostrapping\n",
    "\n",
    "       d_barre = sum(db)/B # Converge p.s vers l'espérance mu\n",
    "\n",
    "       var = np.var(db, ddof=1)\n",
    "       test_stat = (B**0.5)*d_barre/np.sqrt(var) # Statistique pour l'hypothèse nulle\n",
    "\n",
    "       delta = 0.1\n",
    "       student = stats.t.ppf(0.95, df=B-1)\n",
    "       mu = (B ** 0.5)*delta/np.sqrt(var)\n",
    "       test_alt = student - mu\n",
    "       puissance = 1 - stats.norm.cdf(student - mu, 0, 1)\n",
    "       \n",
    "       esperances.append(d_barre)\n",
    "       variances.append(var)\n",
    "       test_statistics.append(test_stat)\n",
    "       test_alternative.append(test_alt)\n",
    "       power.append(puissance)\n",
    "\n",
    "   return esperances, variances, test_statistics, test_alternative, power\n"
   ]
  }
 ],
 "metadata": {
  "kernelspec": {
   "display_name": "Python 3",
   "language": "python",
   "name": "python3"
  },
  "language_info": {
   "name": "python",
   "version": "3.9.6"
  }
 },
 "nbformat": 4,
 "nbformat_minor": 2
}

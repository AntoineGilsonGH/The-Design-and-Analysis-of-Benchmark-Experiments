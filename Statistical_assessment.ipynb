{
  "nbformat": 4,
  "nbformat_minor": 0,
  "metadata": {
    "colab": {
      "provenance": []
    },
    "kernelspec": {
      "name": "python3",
      "display_name": "Python 3"
    },
    "language_info": {
      "name": "python"
    }
  },
  "cells": [
    {
      "cell_type": "code",
      "source": [
        "import pandas as pd\n",
        "import numpy as np\n",
        "import matplotlib.pyplot as plt\n",
        "import scipy.stats as stats\n",
        "from scipy.stats import uniform, norm\n",
        "from sklearn.linear_model import LinearRegression"
      ],
      "metadata": {
        "id": "cQrwpUAiftJe"
      },
      "execution_count": null,
      "outputs": []
    },
    {
      "cell_type": "code",
      "execution_count": null,
      "metadata": {
        "id": "3fvtFvw0Zzvh"
      },
      "outputs": [],
      "source": [
        "def standard_error():\n",
        "\n",
        "   coefs_A, coefs_B, erreurs_A, erreurs_B = models_fit()\n",
        "   pa = erreurs_A[-1]\n",
        "   pb = erreurs_B[-1]\n",
        "   diff = pa - pb\n",
        "\n",
        "   mean_A = np.mean(pa)\n",
        "   mean_B = np.mean(pb)\n",
        "   mean_diff = np.mean(diff)\n",
        "\n",
        "   se_A = np.std(pa)/(n_test**0.5)\n",
        "   se_B = np.std(pb)/(n_test**0.5)\n",
        "   se_diff = np.std(diff)/(n_test**0.5)\n",
        "\n",
        "   return mean_A, mean_B, mean_diff, se_A, se_B, se_diff"
      ]
    },
    {
      "cell_type": "code",
      "source": [
        "def standard_error_boot():\n",
        "\n",
        "   coefs_A, coefs_B, erreurs_A, erreurs_B = models_fit()\n",
        "   pa = erreurs_A[-1]\n",
        "   pb = erreurs_B[-1]\n",
        "   diff = pa - pb\n",
        "   B = 250\n",
        "\n",
        "\n",
        "   bootstrap_indices = np.random.choice(n_test, size=(B, n_test), replace=True)\n",
        "   bootstrap = []\n",
        "\n",
        "   for indices in bootstrap_indices:\n",
        "      boot_mean = np.mean(pa[indices])\n",
        "      bootstrap.append(boot_mean)\n",
        "\n",
        "   mean_A_boot = np.mean(bootstrap)\n",
        "   se_boot_A = np.std(bootstrap)\n",
        "\n",
        "   bootstrap = []\n",
        "\n",
        "   for indices in bootstrap_indices:\n",
        "      boot_mean = np.mean(pb[indices])\n",
        "      bootstrap.append(boot_mean)\n",
        "\n",
        "   mean_B_boot = np.mean(bootstrap)\n",
        "   se_boot_B = np.std(bootstrap)\n",
        "\n",
        "   bootstrap = []\n",
        "\n",
        "   for indices in bootstrap_indices:\n",
        "      boot_mean = np.mean(diff[indices])\n",
        "      bootstrap.append(boot_mean)\n",
        "\n",
        "   mean_diff_boot = np.mean(bootstrap)\n",
        "   se_boot_diff = np.std(bootstrap)\n",
        "\n",
        "\n",
        "   return mean_A_boot, mean_B_boot, mean_diff_boot, se_boot_A, se_boot_B, se_boot_diff"
      ],
      "metadata": {
        "id": "lGRs8xcDdJRm"
      },
      "execution_count": null,
      "outputs": []
    },
    {
      "cell_type": "code",
      "source": [
        "def confidence_interval_mean():\n",
        "\n",
        "    mean_A, mean_B, mean_diff, se_A, se_B, se_diff = standard_error()\n",
        "    t_critical = 1.96\n",
        "    lower_A = mean_A - t_critical * se_A\n",
        "    lower_B = mean_B - t_critical * se_B\n",
        "    lower_diff = mean_diff - t_critical * se_diff\n",
        "    upper_A = mean_A + t_critical * se_A\n",
        "    upper_B = mean_B + t_critical * se_B\n",
        "    upper_diff = mean_diff + t_critical * se_diff\n",
        "\n",
        "    interval_A = pd.Interval(left=lower_A, right=upper_A, closed='both')\n",
        "    interval_B = pd.Interval(left=lower_B, right=upper_B, closed='both')\n",
        "    interval_diff = pd.Interval(left=lower_diff, right=upper_diff, closed='both')\n",
        "\n",
        "    return interval_A, interval_B, interval_diff\n"
      ],
      "metadata": {
        "id": "pIOfjZm7jAsL"
      },
      "execution_count": null,
      "outputs": []
    },
    {
      "cell_type": "code",
      "source": [
        "def confidence_interval_boot():\n",
        "\n",
        "   alpha = 0.05\n",
        "   B = 250\n",
        "   coefs_A, coefs_B, erreurs_A, erreurs_B = models_fit()\n",
        "   pa = erreurs_A[-1]\n",
        "   pb = erreurs_B[-1]\n",
        "   diff = pa - pb\n",
        "\n",
        "   bootstrap_indices = np.random.choice(n_test, size=(B, n_test), replace=True)\n",
        "\n",
        "   moy_boot_A = []\n",
        "   moy_boot_B = []\n",
        "   moy_boot_diff = []\n",
        "\n",
        "   for indices in bootstrap_indices:\n",
        "      boot_mean = np.mean(pa[indices])\n",
        "      moy_boot_A.append(boot_mean)\n",
        "\n",
        "   for indices in bootstrap_indices:\n",
        "      boot_mean = np.mean(pb[indices])\n",
        "      moy_boot_B.append(boot_mean)\n",
        "\n",
        "   for indices in bootstrap_indices:\n",
        "      boot_mean = np.mean(diff[indices])\n",
        "      moy_boot_diff.append(boot_mean)\n",
        "\n",
        "   lower_A = np.percentile(moy_boot_A, 100 * (alpha / 2))\n",
        "   upper_A = np.percentile(moy_boot_A, 100 * (1 - alpha / 2))\n",
        "   lower_B = np.percentile(moy_boot_B, 100 * (alpha / 2))\n",
        "   upper_B = np.percentile(moy_boot_B, 100 * (1 - alpha / 2))\n",
        "   lower_diff = np.percentile(moy_boot_diff, 100 * (alpha / 2))\n",
        "   upper_diff = np.percentile(moy_boot_diff, 100 * (1 - alpha / 2))\n",
        "\n",
        "   interval_A_boot = pd.Interval(left=lower_A, right=upper_A, closed='both')\n",
        "   interval_B_boot = pd.Interval(left=lower_B, right=upper_B, closed='both')\n",
        "   interval_diff_boot = pd.Interval(left=lower_diff, right=upper_diff, closed='both')\n",
        "\n",
        "   return interval_A_boot, interval_B_boot, interval_diff_boot\n"
      ],
      "metadata": {
        "id": "ewq8T92Sh9K-"
      },
      "execution_count": null,
      "outputs": []
    },
    {
      "cell_type": "code",
      "source": [
        "confidence_interval_mean(), confidence_interval_boot()"
      ],
      "metadata": {
        "colab": {
          "base_uri": "https://localhost:8080/"
        },
        "id": "EGojtxfrrOcd",
        "outputId": "99e4c1c5-bb24-4941-e718-3e1ee5f8b2d9"
      },
      "execution_count": null,
      "outputs": [
        {
          "output_type": "execute_result",
          "data": {
            "text/plain": [
              "((Interval(0.9894732786379322, 1.1197605925420309, closed='both'),\n",
              "  Interval(0.9028479296063543, 1.0209791270520945, closed='both'),\n",
              "  Interval(0.06802043797086434, 0.1173863765506498, closed='both')),\n",
              " (Interval(0.9926027557721498, 1.1255214307948875, closed='both'),\n",
              "  Interval(0.9008946425824469, 1.0217413818665761, closed='both'),\n",
              "  Interval(0.06735873139018772, 0.11990492327701482, closed='both')))"
            ]
          },
          "metadata": {},
          "execution_count": 50
        }
      ]
    },
    {
      "cell_type": "code",
      "source": [
        "def statistical_testing():\n",
        "\n",
        "        mean_A, mean_B, mean_diff, se_A, se_B, se_diff = standard_error()\n",
        "        mean_A_boot, mean_B_boot, mean_diff_boot, se_A_boot, se_B_boot, se_diff_boot = standard_error_boot()\n",
        "\n",
        "        test_stat = mean_diff/se_diff\n",
        "\n",
        "        student_bil = stats.t.ppf(0.975, df=n_test-1)\n",
        "        p_value_bil = 1 - stats.t.cdf(abs(test_stat), df = n_test-1)\n",
        "        student_right = stats.t.ppf(0.95, df=n_test-1)\n",
        "        p_value_right = 1 - stats.t.cdf(test_stat, df=n_test-1)\n",
        "\n",
        "        puissance_bil = 1 - stats.norm.cdf(student_bil - test_stat, 0, 1)\n",
        "        puissance_right = 1 - stats.norm.cdf(student_right - test_stat, 0, 1)\n",
        "\n",
        "        test_stat_boot = mean_diff_boot/se_diff_boot\n",
        "\n",
        "\n",
        "        p_value_bil_boot = 1 - stats.t.cdf(abs(test_stat_boot), df = n_test-1)\n",
        "        p_value_right_boot = 1 - stats.t.cdf(test_stat_boot, df=n_test-1)\n",
        "\n",
        "        puissance_bil_boot = 1 - stats.norm.cdf(student_bil - test_stat_boot, 0, 1)\n",
        "        puissance_right_boot = 1 - stats.norm.cdf(student_right - test_stat_boot, 0, 1)\n",
        "\n",
        "        return p_value_bil, p_value_bil_boot, puissance_bil, puissance_bil_boot"
      ],
      "metadata": {
        "colab": {
          "base_uri": "https://localhost:8080/"
        },
        "id": "2GgtK-KDlhTQ",
        "outputId": "5d71e16c-62e3-4b7c-e24c-6b0c3ce40411"
      },
      "execution_count": null,
      "outputs": [
        {
          "output_type": "execute_result",
          "data": {
            "text/plain": [
              "(1.3233858453531866e-13,\n",
              " 4.440892098500626e-16,\n",
              " 0.9999999667066589,\n",
              " 0.999999999597014)"
            ]
          },
          "metadata": {},
          "execution_count": 55
        }
      ]
    }
  ]
}